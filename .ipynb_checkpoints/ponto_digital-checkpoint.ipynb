{
 "cells": [
  {
   "cell_type": "code",
   "execution_count": 2,
   "id": "southern-source",
   "metadata": {},
   "outputs": [],
   "source": [
    "from datetime import datetime,time,timedelta\n",
    "import os.path\n",
    "\n",
    "def ponto():\n",
    "    '''\n",
    "    Esta função pega a data e hora do sistema e salva em um arquivo .txt na pasta atual.\n",
    "    '''\n",
    "    # Pegando data e hora do sistema.\n",
    "    data = str(datetime.date(datetime.now())) # data atual\n",
    "    hora = str(datetime.time(datetime.now())) # hora atual\n",
    "    \n",
    "    # Verificando se o arquivo ja existe no diretorio.\n",
    "    if os.path.isfile('./pontos_marcados.txt') == True:\n",
    "        with open('pontos_marcados.txt', 'r+') as f: \n",
    "            conteudo = f.readlines()                 \n",
    "            check = conteudo[-1]                     \n",
    "            \n",
    "            # Caso você esteja marcando o segundo ponto novamente no dia.\n",
    "            if check[:10] == data and len(check) >= 40:                   \n",
    "                old_lines = conteudo[:-1]\n",
    "                new_line = [check[:-16] + ',' + hora]\n",
    "                lines = old_lines + new_line\n",
    "                f.truncate(0)\n",
    "                f.seek(0)\n",
    "                for i in lines:\n",
    "                    f.write(i)\n",
    "                    \n",
    "            # Caso seja o segundo ponto do dia.        \n",
    "            elif check[:10] == data:\n",
    "                f.write(',')                        \n",
    "                f.write(hora)\n",
    "            \n",
    "            # Caso seja o primeiro ponto do dia.\n",
    "            else:\n",
    "                f.write('\\n')\n",
    "                f.write(data)\n",
    "                f.write(',')\n",
    "                f.write(hora) \n",
    "    else:\n",
    "        # Criando arquivo.\n",
    "        with open('pontos_marcados.txt', 'x') as f:\n",
    "            f.write('data,entrada,saida')"
   ]
  },
  {
   "cell_type": "code",
   "execution_count": 1,
   "id": "missing-battery",
   "metadata": {},
   "outputs": [],
   "source": [
    "import pandas as pd\n",
    "import tkinter as tk\n",
    "from tkinter import messagebox\n",
    "\n",
    "root= tk.Tk()\n",
    "root.geometry('1x1')\n",
    "\n",
    "def horas_result():\n",
    "    '''\n",
    "    Análise breve das horas trabalhadas.\n",
    "    '''\n",
    "    # Importando dados\n",
    "    df = pd.read_csv('./pontos_marcados.txt',delimiter=',')\n",
    "\n",
    "    # Transformando os dados para o tipo correto. De 'string' para 'timedelta'.\n",
    "    df['horas_trabalhadas'] = pd.DatetimeIndex(df.saida) - pd.DatetimeIndex(df.entrada)\n",
    "    df['data'] = pd.to_datetime(df.data)\n",
    "    df['entrada'] = pd.DatetimeIndex(df.entrada).time\n",
    "    df['saida'] = pd.DatetimeIndex(df.saida).time\n",
    "\n",
    "    # Criando coluna de horas excedentes ou faltantes.\n",
    "    df['horas_por_dia'] = timedelta(hours=7)\n",
    "    df['horas_excedentes_faltantes'] = df.horas_trabalhadas - df.horas_por_dia    \n",
    "\n",
    "    total = df.horas_excedentes_faltantes.sum()\n",
    "    b = timedelta()\n",
    "\n",
    "    # Definindo o texto na janela popup.\n",
    "    if total < b:\n",
    "        base = timedelta(days=-1,hours=24)\n",
    "        resultado = base - total\n",
    "        msg = 'Faltam {} horas.'.format(str(resultado))\n",
    "        MsgBox = tk.messagebox.showinfo(\"Folha de pontos\", msg)\n",
    "        if MsgBox == 'ok':\n",
    "            root.destroy()\n",
    "        else:\n",
    "            root.destroy()\n",
    "\n",
    "    else:\n",
    "        msg = 'Você excedeu {} horas.'.format(str(total))\n",
    "        MsgBox = tk.messagebox.showinfo(\"Folha de pontos\", msg)\n",
    "        if MsgBox == 'ok':\n",
    "            root.destroy()\n",
    "        else:\n",
    "            root.destroy()"
   ]
  },
  {
   "cell_type": "code",
   "execution_count": 4,
   "id": "offshore-cargo",
   "metadata": {},
   "outputs": [],
   "source": [
    "ponto()"
   ]
  },
  {
   "cell_type": "code",
   "execution_count": 5,
   "id": "flying-admission",
   "metadata": {
    "scrolled": true
   },
   "outputs": [],
   "source": [
    "horas_result()"
   ]
  }
 ],
 "metadata": {
  "kernelspec": {
   "display_name": "Python 3",
   "language": "python",
   "name": "python3"
  },
  "language_info": {
   "codemirror_mode": {
    "name": "ipython",
    "version": 3
   },
   "file_extension": ".py",
   "mimetype": "text/x-python",
   "name": "python",
   "nbconvert_exporter": "python",
   "pygments_lexer": "ipython3",
   "version": "3.9.2"
  }
 },
 "nbformat": 4,
 "nbformat_minor": 5
}
